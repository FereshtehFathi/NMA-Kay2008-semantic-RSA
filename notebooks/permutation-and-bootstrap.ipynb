{
 "cells": [
  {
   "cell_type": "code",
   "execution_count": 3,
   "id": "5b5dbb3d",
   "metadata": {},
   "outputs": [
    {
     "name": "stderr",
     "output_type": "stream",
     "text": [
      "C:\\Users\\NilGooN\\AppData\\Local\\Temp\\ipykernel_3208\\41125491.py:21: ConstantInputWarning: An input array is constant; the correlation coefficient is not defined.\n",
      "  obs_corr, _ = spearmanr(flat_label_sim, flat_brain_corr)\n",
      "C:\\Users\\NilGooN\\AppData\\Local\\Temp\\ipykernel_3208\\41125491.py:25: ConstantInputWarning: An input array is constant; the correlation coefficient is not defined.\n",
      "  null_dist[i], _ = spearmanr(flat_label_sim, permuted)\n",
      "C:\\Users\\NilGooN\\AppData\\Local\\Temp\\ipykernel_3208\\41125491.py:35: ConstantInputWarning: An input array is constant; the correlation coefficient is not defined.\n",
      "  boot_corrs[i], _ = spearmanr(flat_label_sim[idx], flat_brain_corr[idx])\n"
     ]
    },
    {
     "name": "stdout",
     "output_type": "stream",
     "text": [
      "✅ Saved rsa_perm_bootstrap.csv\n"
     ]
    }
   ],
   "source": [
    "# ============================================\n",
    "# 04_permutation_and_bootstrap.ipynb\n",
    "# Permutation test and bootstrap CI for RSA validation\n",
    "# ============================================\n",
    "\n",
    "import numpy as np\n",
    "import pandas as pd\n",
    "from scipy.stats import spearmanr\n",
    "\n",
    "# Load previous results\n",
    "responses = np.load(\"../data/kay_images.npz\")['responses']\n",
    "roi = np.load(\"../data/kay_images.npz\")['roi']\n",
    "roi_names = np.load(\"../data/kay_images.npz\")['roi_names']\n",
    "label_similarity = np.load(\"../data/semantic_similarity.npy\")\n",
    "\n",
    "n_images = label_similarity.shape[0]\n",
    "iu = np.triu_indices(n_images, k=1)\n",
    "\n",
    "def permutation_test(flat_label_sim, flat_brain_corr, n_perm=500, seed=42):\n",
    "    rng = np.random.default_rng(seed)\n",
    "    obs_corr, _ = spearmanr(flat_label_sim, flat_brain_corr)\n",
    "    null_dist = np.zeros(n_perm)\n",
    "    for i in range(n_perm):\n",
    "        permuted = rng.permutation(flat_brain_corr)\n",
    "        null_dist[i], _ = spearmanr(flat_label_sim, permuted)\n",
    "    p_val = (np.sum(null_dist >= obs_corr) + 1) / (n_perm + 1)\n",
    "    return obs_corr, p_val\n",
    "\n",
    "def bootstrap_ci(flat_label_sim, flat_brain_corr, n_boot=500, seed=42):\n",
    "    rng = np.random.default_rng(seed)\n",
    "    n = len(flat_label_sim)\n",
    "    boot_corrs = np.zeros(n_boot)\n",
    "    for i in range(n_boot):\n",
    "        idx = rng.choice(np.arange(n), n, replace=True)\n",
    "        boot_corrs[i], _ = spearmanr(flat_label_sim[idx], flat_brain_corr[idx])\n",
    "    ci_lower = np.percentile(boot_corrs, 2.5)\n",
    "    ci_upper = np.percentile(boot_corrs, 97.5)\n",
    "    return ci_lower, ci_upper\n",
    "\n",
    "results_perm = []\n",
    "for roi_idx, roi_name in enumerate(roi_names):\n",
    "    mask = (roi == roi_idx)\n",
    "    if np.sum(mask) == 0:\n",
    "        continue\n",
    "\n",
    "    fmri_roi = responses[:, mask]\n",
    "    corr_matrix, _ = spearmanr(fmri_roi, axis=1)\n",
    "    brain_corr = corr_matrix[:n_images, :n_images]\n",
    "    flat_label_sim = label_similarity[iu]\n",
    "    flat_brain_corr = brain_corr[iu]\n",
    "\n",
    "    rho, p_perm = permutation_test(flat_label_sim, flat_brain_corr)\n",
    "    ci_low, ci_high = bootstrap_ci(flat_label_sim, flat_brain_corr)\n",
    "    results_perm.append({\"ROI\": roi_name, \"rho\": rho, \"p_perm\": p_perm,\n",
    "                         \"CI_low\": ci_low, \"CI_high\": ci_high})\n",
    "\n",
    "df_perm = pd.DataFrame(results_perm)\n",
    "df_perm.to_csv(\"../results/rsa_perm_bootstrap.csv\", index=False)\n",
    "print(\"✅ Saved rsa_perm_bootstrap.csv\")"
   ]
  }
 ],
 "metadata": {
  "kernelspec": {
   "display_name": "Python 3",
   "language": "python",
   "name": "python3"
  },
  "language_info": {
   "codemirror_mode": {
    "name": "ipython",
    "version": 3
   },
   "file_extension": ".py",
   "mimetype": "text/x-python",
   "name": "python",
   "nbconvert_exporter": "python",
   "pygments_lexer": "ipython3",
   "version": "3.13.2"
  }
 },
 "nbformat": 4,
 "nbformat_minor": 5
}
